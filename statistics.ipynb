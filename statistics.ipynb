{
 "cells": [
  {
   "cell_type": "code",
   "execution_count": 1,
   "id": "6bb36a9a",
   "metadata": {},
   "outputs": [
    {
     "data": {
      "text/plain": [
       "(21, 23)"
      ]
     },
     "execution_count": 1,
     "metadata": {},
     "output_type": "execute_result"
    }
   ],
   "source": [
    "import os\n",
    "import json\n",
    "\n",
    "original_dataset_path = \"original/\" # get all the json files from this directory\n",
    "cleaned_dataset_path = \"cleaned/\" # get all the json files from this directory\n",
    "\n",
    "def get_json_files(path):\n",
    "    \"\"\"\n",
    "    Get all json files in the given directory.\n",
    "    \"\"\"\n",
    "    json_files = []\n",
    "    for root, dirs, files in os.walk(path):\n",
    "        for file in files:\n",
    "            if file.endswith(\".json\"):\n",
    "                json_files.append(os.path.join(root, file))\n",
    "    return json_files\n",
    "\n",
    "cleaned_json_files = get_json_files(cleaned_dataset_path)\n",
    "original_json_files = get_json_files(original_dataset_path)\n",
    "len(cleaned_json_files), len(original_json_files)"
   ]
  },
  {
   "cell_type": "code",
   "execution_count": 2,
   "id": "f3c97315",
   "metadata": {},
   "outputs": [
    {
     "data": {
      "text/plain": [
       "['original/reconstructed_group1_hash_renamed.json',\n",
       " 'original/reconstructed_group3_helper_as_part_of_groundtruth_original.json',\n",
       " 'original/reconstructed_group3_helper_as_part_of_groundtruth_usual_renamed.json',\n",
       " 'original/reconstructed_group3_helper_as_other_candidates_original.json',\n",
       " 'original/reconstructed_group1_asm_short.json',\n",
       " 'original/reconstructed_group3_asm_short.json',\n",
       " 'original/reconstructed_group2_hash_renamed.json',\n",
       " 'original/reconstructed_group3_asm_long.json',\n",
       " 'original/reconstructed_group2_wasm.json',\n",
       " 'original/reconstructed_group2_asm_short.json',\n",
       " 'original/reconstructed_group2_asm_long.json',\n",
       " 'original/reconstructed_group2_usual_renamed.json',\n",
       " 'original/reconstructed_group3_asm_long_saved.json',\n",
       " 'original/reconstructed_group3_helper_as_part_of_groundtruth_hash_renamed.json',\n",
       " 'original/reconstructed_group3_asm_long_updated.json',\n",
       " 'original/reconstructed_group1_asm_long.json',\n",
       " 'original/reconstructed_group1_usual_renamed.json',\n",
       " 'original/reconstructed_group1_wasm.json',\n",
       " 'original/reconstructed_group3_helper_as_part_of_groundtruth_wasm.json',\n",
       " 'original/reconstructed_group3_helper_as_other_candidates_hash_renamed.json',\n",
       " 'original/reconstructed_group2_original.json',\n",
       " 'original/reconstructed_group3_helper_as_other_candidates_usual_renamed.json',\n",
       " 'original/reconstructed_group1_original.json']"
      ]
     },
     "execution_count": 2,
     "metadata": {},
     "output_type": "execute_result"
    }
   ],
   "source": [
    "original_json_files"
   ]
  },
  {
   "cell_type": "code",
   "execution_count": null,
   "id": "938423e5",
   "metadata": {},
   "outputs": [],
   "source": []
  },
  {
   "cell_type": "code",
   "execution_count": 3,
   "id": "1731a1ea",
   "metadata": {},
   "outputs": [],
   "source": [
    "json_files_used = [\n",
    "    'original/reconstructed_group1_original.json',\n",
    "    'original/reconstructed_group1_asm_long.json',\n",
    "    'original/reconstructed_group1_wasm.json',\n",
    "    'original/reconstructed_group2_original.json',\n",
    "    'original/reconstructed_group2_asm_long.json',\n",
    "    'original/reconstructed_group2_wasm.json',\n",
    "    'original/reconstructed_group3_helper_as_part_of_groundtruth_original.json',\n",
    "    'original/reconstructed_group3_asm_long.json',\n",
    "    'original/reconstructed_group3_helper_as_part_of_groundtruth_wasm.json',\n",
    "\n",
    "]\n",
    "\n",
    "# check if json file used are the subset of original json files\n",
    "for json_file in json_files_used:\n",
    "    if json_file not in original_json_files:\n",
    "        print(f\"{json_file} is not in original json files\")"
   ]
  },
  {
   "cell_type": "markdown",
   "id": "77bce4c3",
   "metadata": {},
   "source": [
    "#### We are gonna calculate the statistics for the dataset.\n",
    "\n",
    "##### General metrics\n",
    "1. number of pairs\n",
    "\n",
    "##### For Query\n",
    "1. Token counts\n",
    "\n",
    "##### For Code\n",
    "1. Token counts\n",
    "2. Line of code\n",
    "3. Complexity\n",
    "\n",
    "Here, we define the token counts to be the number of tokens in the code/query as a string after splitting by spaces.\n",
    "\n",
    "For Line of Code, we split the text by '\\n'.\n",
    "\n",
    "For each group, we collect the following statistics. And we also collect for the entire dataset"
   ]
  },
  {
   "cell_type": "code",
   "execution_count": 4,
   "id": "35b17c09",
   "metadata": {},
   "outputs": [],
   "source": [
    "final_result = {\"general\": {}, \"query\": {}, \"code\": {}}"
   ]
  },
  {
   "cell_type": "markdown",
   "id": "c85dad14",
   "metadata": {},
   "source": [
    "#### General Metrics"
   ]
  },
  {
   "cell_type": "markdown",
   "id": "ef5a6246",
   "metadata": {},
   "source": [
    "##### 1. Number of pairs"
   ]
  },
  {
   "cell_type": "code",
   "execution_count": 5,
   "id": "3c6ec768",
   "metadata": {},
   "outputs": [],
   "source": [
    "def get_num_pairs(json_file):\n",
    "    \"\"\"\n",
    "    Get the number of pairs in the given json files.\n",
    "    \"\"\"\n",
    "    return len(json_file['query'])"
   ]
  },
  {
   "cell_type": "code",
   "execution_count": 6,
   "id": "bbeb1594",
   "metadata": {},
   "outputs": [],
   "source": [
    "group_one_original_path = \"original/reconstructed_group1_original.json\"\n",
    "group_two_original_path = \"original/reconstructed_group2_original.json\"\n",
    "group_three_original_path = \"original/reconstructed_group3_helper_as_part_of_groundtruth_original.json\"\n",
    "\n",
    "with open(group_one_original_path, 'r') as f:\n",
    "    group_one_original = json.load(f)\n",
    "\n",
    "with open(group_two_original_path, 'r') as f:\n",
    "    group_two_original = json.load(f)\n",
    "\n",
    "with open(group_three_original_path, 'r') as f:\n",
    "    group_three_original = json.load(f)\n",
    "\n",
    "group_one_pair_count = get_num_pairs(group_one_original)\n",
    "\n",
    "group_two_pair_count = get_num_pairs(group_two_original)\n",
    "\n",
    "group_three_pair_count = get_num_pairs(group_three_original)\n"
   ]
  },
  {
   "cell_type": "code",
   "execution_count": 7,
   "id": "f934fe4d",
   "metadata": {},
   "outputs": [
    {
     "name": "stdout",
     "output_type": "stream",
     "text": [
      "Group 1 original pair count:  526 Group 2 original pair count:  469 Group 3 original pair count:  44\n"
     ]
    }
   ],
   "source": [
    "final_result['general']['Group 1 original pair count'] = group_one_pair_count\n",
    "final_result['general']['Group 2 original pair count'] = group_two_pair_count\n",
    "final_result['general']['Group 3 original pair count'] = group_three_pair_count\n",
    "print(\"Group 1 original pair count: \", group_one_pair_count, \"Group 2 original pair count: \", group_two_pair_count, \"Group 3 original pair count: \", group_three_pair_count)"
   ]
  },
  {
   "cell_type": "markdown",
   "id": "48f924fe",
   "metadata": {},
   "source": [
    "#### Query Metrics"
   ]
  },
  {
   "cell_type": "markdown",
   "id": "9c608ab1",
   "metadata": {},
   "source": [
    "##### 1. Token counts"
   ]
  },
  {
   "cell_type": "code",
   "execution_count": 8,
   "id": "3b40f0f7",
   "metadata": {},
   "outputs": [],
   "source": [
    "# Use the tokenizer of OASIS\n",
    "from transformers import AutoModel, AutoTokenizer\n",
    "tokenizer = AutoTokenizer.from_pretrained(\"Kwaipilot/OASIS-code-1.5B\")"
   ]
  },
  {
   "cell_type": "code",
   "execution_count": 9,
   "id": "fdec390b",
   "metadata": {},
   "outputs": [],
   "source": [
    "# Count the number of tokens in the given query.\n",
    "\n",
    "def count_query_tokens(query):\n",
    "    \"\"\"\n",
    "    Count the number of tokens in the given query.\n",
    "    \"\"\"\n",
    "    query = query.strip()\n",
    "    tokens = tokenizer(query, return_tensors='pt', add_special_tokens=True, truncation=False, max_length=1024 * 1024 * 128)\n",
    "    return len(tokens['input_ids'][0])"
   ]
  },
  {
   "cell_type": "code",
   "execution_count": 10,
   "id": "8e41f968",
   "metadata": {},
   "outputs": [],
   "source": [
    "group_one_original_path = \"original/reconstructed_group1_original.json\"\n",
    "group_two_original_path = \"original/reconstructed_group2_original.json\"\n",
    "group_three_original_path = \"original/reconstructed_group3_helper_as_part_of_groundtruth_original.json\"\n",
    "\n",
    "with open(group_one_original_path, 'r') as f:\n",
    "    group_one_original = json.load(f)\n",
    "    group_one_query = group_one_original['query']\n",
    "\n",
    "with open(group_two_original_path, 'r') as f:\n",
    "    group_two_original = json.load(f)\n",
    "    group_two_query = group_two_original['query']\n",
    "\n",
    "with open(group_three_original_path, 'r') as f:\n",
    "    group_three_original = json.load(f)\n",
    "    group_three_query = group_three_original['query']\n",
    "\n",
    "# calculate the average number of tokens in the query\n",
    "group_one_query_tokens = []\n",
    "group_two_query_tokens = []\n",
    "group_three_query_tokens = []\n",
    "\n",
    "for id, query in group_one_query.items():\n",
    "    group_one_query_tokens.append(count_query_tokens(query))\n",
    "for id, query in group_two_query.items():\n",
    "    group_two_query_tokens.append(count_query_tokens(query))\n",
    "for id, query in group_three_query.items():\n",
    "    group_three_query_tokens.append(count_query_tokens(query))\n",
    "\n",
    "\n",
    "group_one_query_tokens_count = \"{:.1f}\".format(sum(group_one_query_tokens) / len(group_one_query_tokens))\n",
    "group_two_query_tokens_count = \"{:.1f}\".format(sum(group_two_query_tokens) / len(group_two_query_tokens))\n",
    "group_three_query_tokens_count = \"{:.1f}\".format(sum(group_three_query_tokens) / len(group_three_query_tokens))"
   ]
  },
  {
   "cell_type": "code",
   "execution_count": 11,
   "id": "59ba076d",
   "metadata": {},
   "outputs": [
    {
     "name": "stdout",
     "output_type": "stream",
     "text": [
      "Group 1 average query tokens:  88.3 Group 2 average query tokens:  84.7 Group 3 average query tokens:  88.2\n"
     ]
    }
   ],
   "source": [
    "final_result['query']['Group 1 average query tokens'] = group_one_query_tokens_count\n",
    "final_result['query']['Group 2 average query tokens'] = group_two_query_tokens_count\n",
    "final_result['query']['Group 3 average query tokens'] = group_three_query_tokens_count\n",
    "\n",
    "print(\"Group 1 average query tokens: \", group_one_query_tokens_count, \"Group 2 average query tokens: \", group_two_query_tokens_count, \"Group 3 average query tokens: \", group_three_query_tokens_count)"
   ]
  },
  {
   "cell_type": "code",
   "execution_count": 12,
   "id": "550cf4a2",
   "metadata": {},
   "outputs": [
    {
     "name": "stdout",
     "output_type": "stream",
     "text": [
      "Entire Group average query token count:  86.7\n"
     ]
    }
   ],
   "source": [
    "group_entire_query_token_count = \"{:.1f}\".format((sum(group_one_query_tokens) + sum(group_two_query_tokens) + sum(group_three_query_tokens)) / (len(group_one_query_tokens) + len(group_two_query_tokens) + len(group_three_query_tokens)))\n",
    "\n",
    "final_result['query']['Entire Group average query token count'] = group_entire_query_token_count\n",
    "print(\"Entire Group average query token count: \", group_entire_query_token_count)"
   ]
  },
  {
   "cell_type": "markdown",
   "id": "2b0a9adb",
   "metadata": {},
   "source": [
    "#### Code Metrics"
   ]
  },
  {
   "cell_type": "markdown",
   "id": "70b71afc",
   "metadata": {},
   "source": [
    "##### 1. Token counts"
   ]
  },
  {
   "cell_type": "code",
   "execution_count": 13,
   "id": "200038aa",
   "metadata": {},
   "outputs": [],
   "source": [
    "# Count the number of tokens in the given code.\n",
    "# Use the tokenizer of OASIS\n",
    "from transformers import AutoModel, AutoTokenizer\n",
    "tokenizer = AutoTokenizer.from_pretrained(\"Kwaipilot/OASIS-code-1.5B\")\n",
    "\n",
    "def count_code_tokens(code):\n",
    "    \"\"\"\n",
    "    Count the number of tokens in the given code.\n",
    "    \"\"\"\n",
    "    code = code.strip()\n",
    "    tokens = tokenizer(code, return_tensors='pt', add_special_tokens=True, truncation=False, max_length=1024 * 1024 * 128)\n",
    "    return len(tokens['input_ids'][0])"
   ]
  },
  {
   "cell_type": "code",
   "execution_count": 14,
   "id": "0468d857",
   "metadata": {},
   "outputs": [
    {
     "name": "stdout",
     "output_type": "stream",
     "text": [
      "Group 1 original average code tokens:  119.2 Group 1 asm long average code tokens:  753.7 Group 1 wasm average code tokens:  665.5\n",
      "Group 2 original average code tokens:  137.7 Group 2 asm long average code tokens:  831.3 Group 2 wasm average code tokens:  947.1\n",
      "Group 3 original average code tokens:  163.3 Group 3 asm long average code tokens:  926.9 Group 3 wasm average code tokens:  672.6\n"
     ]
    }
   ],
   "source": [
    "\n",
    "group_one_original_path = \"original/reconstructed_group1_original.json\"\n",
    "group_one_asm_long_path = \"original/reconstructed_group1_asm_long.json\"\n",
    "group_one_wasm_path = \"original/reconstructed_group1_wasm.json\"\n",
    "group_two_original_path = \"original/reconstructed_group2_original.json\"\n",
    "group_two_asm_long_path = \"original/reconstructed_group2_asm_long.json\"\n",
    "group_two_wasm_path = \"original/reconstructed_group2_wasm.json\"\n",
    "group_three_original_path = \"original/reconstructed_group3_helper_as_part_of_groundtruth_original.json\"\n",
    "group_three_asm_long_path = \"original/reconstructed_group3_asm_long.json\"\n",
    "group_three_wasm_path = \"original/reconstructed_group3_helper_as_part_of_groundtruth_wasm.json\"\n",
    "\n",
    "# make sure all of the json files are in the json files used\n",
    "assert group_one_original_path in json_files_used and group_one_asm_long_path in json_files_used and group_one_wasm_path in json_files_used\n",
    "assert group_two_original_path in json_files_used and group_two_asm_long_path in json_files_used and group_two_wasm_path in json_files_used\n",
    "assert group_three_original_path in json_files_used and group_three_asm_long_path in json_files_used and group_three_wasm_path in json_files_used\n",
    "\n",
    "with open(group_one_original_path, 'r') as f:\n",
    "    group_one_original = json.load(f)\n",
    "    group_one_corpus = group_one_original['corpus']\n",
    "    group_one_corpus_tokens = []\n",
    "    for id, code in group_one_corpus.items():\n",
    "        group_one_corpus_tokens.append(count_code_tokens(code))\n",
    "\n",
    "with open(group_one_asm_long_path, 'r') as f:\n",
    "    group_one_asm_long = json.load(f)\n",
    "    group_one_asm_long_corpus = group_one_asm_long['corpus']\n",
    "    group_one_asm_long_corpus_tokens = []\n",
    "    for id, code in group_one_asm_long_corpus.items():\n",
    "        group_one_asm_long_corpus_tokens.append(count_code_tokens(code))\n",
    "\n",
    "with open(group_one_wasm_path, 'r') as f:\n",
    "    group_one_wasm = json.load(f)\n",
    "    group_one_wasm_corpus = group_one_wasm['corpus']\n",
    "    group_one_wasm_corpus_tokens = []\n",
    "    for id, code in group_one_wasm_corpus.items():\n",
    "        group_one_wasm_corpus_tokens.append(count_code_tokens(code))\n",
    "\n",
    "with open(group_two_original_path, 'r') as f:\n",
    "    group_two_original = json.load(f)\n",
    "    group_two_corpus = group_two_original['corpus']\n",
    "    group_two_corpus_tokens = []\n",
    "    for id, code in group_two_corpus.items():\n",
    "        group_two_corpus_tokens.append(count_code_tokens(code))\n",
    "\n",
    "with open(group_two_asm_long_path, 'r') as f:\n",
    "    group_two_asm_long = json.load(f)\n",
    "    group_two_asm_long_corpus = group_two_asm_long['corpus']\n",
    "    group_two_asm_long_corpus_tokens = []\n",
    "    for id, code in group_two_asm_long_corpus.items():\n",
    "        group_two_asm_long_corpus_tokens.append(count_code_tokens(code))\n",
    "\n",
    "with open(group_two_wasm_path, 'r') as f:\n",
    "    group_two_wasm = json.load(f)\n",
    "    group_two_wasm_corpus = group_two_wasm['corpus']\n",
    "    group_two_wasm_corpus_tokens = []\n",
    "    for id, code in group_two_wasm_corpus.items():\n",
    "        group_two_wasm_corpus_tokens.append(count_code_tokens(code))\n",
    "\n",
    "with open(group_three_original_path, 'r') as f:\n",
    "    group_three_original = json.load(f)\n",
    "    group_three_corpus = group_three_original['corpus']\n",
    "    group_three_corpus_tokens = []\n",
    "    for id, code in group_three_corpus.items():\n",
    "        if \"c_group_3_id\" not in id:\n",
    "            continue\n",
    "        group_three_corpus_tokens.append(count_code_tokens(code))\n",
    "\n",
    "with open(group_three_asm_long_path, 'r') as f:\n",
    "    group_three_asm_long = json.load(f)\n",
    "    group_three_asm_long_corpus = group_three_asm_long['corpus']\n",
    "    group_three_asm_long_corpus_tokens = []\n",
    "    for id, code in group_three_asm_long_corpus.items():\n",
    "        if \"c_group_3_id\" not in id:\n",
    "            continue\n",
    "        group_three_asm_long_corpus_tokens.append(count_code_tokens(code))\n",
    "\n",
    "with open(group_three_wasm_path, 'r') as f:\n",
    "    group_three_wasm = json.load(f)\n",
    "    group_three_wasm_corpus = group_three_wasm['corpus']\n",
    "    group_three_wasm_corpus_tokens = []\n",
    "    for id, code in group_three_wasm_corpus.items():\n",
    "        if \"c_group_3_id\" not in id:\n",
    "            continue\n",
    "        group_three_wasm_corpus_tokens.append(count_code_tokens(code))\n",
    "\n",
    "group_one_original_corpus_tokens_count = \"{:.1f}\".format(sum(group_one_corpus_tokens) / len(group_one_corpus_tokens))\n",
    "group_one_asm_long_corpus_tokens_count = \"{:.1f}\".format(sum(group_one_asm_long_corpus_tokens) / len(group_one_asm_long_corpus_tokens))\n",
    "group_one_wasm_corpus_tokens_count = \"{:.1f}\".format(sum(group_one_wasm_corpus_tokens) / len(group_one_wasm_corpus_tokens))\n",
    "group_two_original_corpus_tokens_count = \"{:.1f}\".format(sum(group_two_corpus_tokens) / len(group_two_corpus_tokens))\n",
    "group_two_asm_long_corpus_tokens_count = \"{:.1f}\".format(sum(group_two_asm_long_corpus_tokens) / len(group_two_asm_long_corpus_tokens))\n",
    "group_two_wasm_corpus_tokens_count = \"{:.1f}\".format(sum(group_two_wasm_corpus_tokens) / len(group_two_wasm_corpus_tokens))\n",
    "group_three_original_corpus_tokens_count = \"{:.1f}\".format(sum(group_three_corpus_tokens) / len(group_three_corpus_tokens))\n",
    "group_three_asm_long_corpus_tokens_count = \"{:.1f}\".format(sum(group_three_asm_long_corpus_tokens) / len(group_three_asm_long_corpus_tokens))\n",
    "group_three_wasm_corpus_tokens_count = \"{:.1f}\".format(sum(group_three_wasm_corpus_tokens) / len(group_three_wasm_corpus_tokens))\n",
    "\n",
    "final_result['code']['Group 1 original average code tokens'] = group_one_original_corpus_tokens_count\n",
    "final_result['code']['Group 1 asm long average code tokens'] = group_one_asm_long_corpus_tokens_count\n",
    "final_result['code']['Group 1 wasm average code tokens'] = group_one_wasm_corpus_tokens_count\n",
    "final_result['code']['Group 2 original average code tokens'] = group_two_original_corpus_tokens_count\n",
    "final_result['code']['Group 2 asm long average code tokens'] = group_two_asm_long_corpus_tokens_count\n",
    "final_result['code']['Group 2 wasm average code tokens'] = group_two_wasm_corpus_tokens_count\n",
    "final_result['code']['Group 3 original average code tokens'] = group_three_original_corpus_tokens_count\n",
    "final_result['code']['Group 3 asm long average code tokens'] = group_three_asm_long_corpus_tokens_count\n",
    "final_result['code']['Group 3 wasm average code tokens'] = group_three_wasm_corpus_tokens_count\n",
    "print(\"Group 1 original average code tokens: \", group_one_original_corpus_tokens_count, \"Group 1 asm long average code tokens: \", group_one_asm_long_corpus_tokens_count, \"Group 1 wasm average code tokens: \", group_one_wasm_corpus_tokens_count)\n",
    "print(\"Group 2 original average code tokens: \", group_two_original_corpus_tokens_count, \"Group 2 asm long average code tokens: \", group_two_asm_long_corpus_tokens_count, \"Group 2 wasm average code tokens: \", group_two_wasm_corpus_tokens_count)\n",
    "print(\"Group 3 original average code tokens: \", group_three_original_corpus_tokens_count, \"Group 3 asm long average code tokens: \", group_three_asm_long_corpus_tokens_count, \"Group 3 wasm average code tokens: \", group_three_wasm_corpus_tokens_count)\n"
   ]
  },
  {
   "cell_type": "code",
   "execution_count": 15,
   "id": "59f6efc7",
   "metadata": {},
   "outputs": [
    {
     "name": "stdout",
     "output_type": "stream",
     "text": [
      "Entire Group average original code tokens:  129.4 Entire Group average asm long code tokens:  795.5 Entire Group average wasm code tokens:  787.1\n"
     ]
    }
   ],
   "source": [
    "# calculate the average number of tokens in the entire corpus for code\n",
    "\n",
    "original_entire_corpus_tokens_count = \"{:.1f}\".format((sum(group_one_corpus_tokens) + sum(group_two_corpus_tokens) + sum(group_three_corpus_tokens)) / (len(group_one_corpus_tokens) + len(group_two_corpus_tokens) + len(group_three_corpus_tokens)))\n",
    "asm_long_entire_corpus_tokens_count = \"{:.1f}\".format((sum(group_one_asm_long_corpus_tokens) + sum(group_two_asm_long_corpus_tokens) + sum(group_three_asm_long_corpus_tokens)) / (len(group_one_asm_long_corpus_tokens) + len(group_two_asm_long_corpus_tokens) + len(group_three_asm_long_corpus_tokens)))\n",
    "wasm_entire_corpus_tokens_count = \"{:.1f}\".format((sum(group_one_wasm_corpus_tokens) + sum(group_two_wasm_corpus_tokens) + sum(group_three_wasm_corpus_tokens)) / (len(group_one_wasm_corpus_tokens) + len(group_two_wasm_corpus_tokens) + len(group_three_wasm_corpus_tokens)))\n",
    "\n",
    "final_result['code']['Entire Group average original code tokens'] = original_entire_corpus_tokens_count\n",
    "final_result['code']['Entire Group average asm long code tokens'] = asm_long_entire_corpus_tokens_count\n",
    "final_result['code']['Entire Group average wasm code tokens'] = wasm_entire_corpus_tokens_count\n",
    "print(\"Entire Group average original code tokens: \", original_entire_corpus_tokens_count, \"Entire Group average asm long code tokens: \", asm_long_entire_corpus_tokens_count, \"Entire Group average wasm code tokens: \", wasm_entire_corpus_tokens_count)"
   ]
  },
  {
   "cell_type": "code",
   "execution_count": 27,
   "id": "73fe5af1",
   "metadata": {},
   "outputs": [
    {
     "name": "stdout",
     "output_type": "stream",
     "text": [
      "Asm totoal points:  1015\n",
      "Wasm totoal points:  940\n",
      "Asm discard:  24\n",
      "Wasm discard:  99\n"
     ]
    }
   ],
   "source": [
    "\n",
    "print(\"Asm totoal points: \", len(group_one_asm_long_corpus_tokens) + len(group_two_asm_long_corpus_tokens) + len(group_three_asm_long_corpus_tokens))\n",
    "print(\"Wasm totoal points: \", len(group_one_wasm_corpus_tokens) + len(group_two_wasm_corpus_tokens) + len(group_three_wasm_corpus_tokens))\n",
    "print(\"Asm discard: \", group_one_pair_count + group_two_pair_count + group_three_pair_count -  (len(group_one_asm_long_corpus_tokens) + len(group_two_asm_long_corpus_tokens) + len(group_three_asm_long_corpus_tokens)))\n",
    "print(\"Wasm discard: \", group_one_pair_count + group_two_pair_count + group_three_pair_count -  (len(group_one_wasm_corpus_tokens) + len(group_two_wasm_corpus_tokens) + len(group_three_wasm_corpus_tokens)))"
   ]
  },
  {
   "cell_type": "markdown",
   "id": "2044da20",
   "metadata": {},
   "source": [
    "##### 2. Line of Code"
   ]
  },
  {
   "cell_type": "code",
   "execution_count": 16,
   "id": "e65a7e3a",
   "metadata": {},
   "outputs": [],
   "source": [
    "def get_line_count(code): # here, the text is a string for the query.\n",
    "    \"\"\"\n",
    "    Get the number of lines in the given text.\n",
    "    \"\"\"\n",
    "    code = code.strip()\n",
    "    return len(code.split('\\n'))"
   ]
  },
  {
   "cell_type": "code",
   "execution_count": 17,
   "id": "cc35015e",
   "metadata": {},
   "outputs": [
    {
     "name": "stdout",
     "output_type": "stream",
     "text": [
      "Group 1 original average code line count:  12.8 Group 1 asm long average code line count:  80.7 Group 1 wasm average code line count:  96.2\n",
      "Group 2 original average code line count:  13.3 Group 2 asm long average code line count:  84.4 Group 2 wasm average code line count:  134.4\n",
      "Group 3 original average code line count:  22.9 Group 3 asm long average code line count:  96.4 Group 3 wasm average code line count:  97.6\n"
     ]
    }
   ],
   "source": [
    "group_one_original_path = \"original/reconstructed_group1_original.json\"\n",
    "group_one_asm_long_path = \"original/reconstructed_group1_asm_long.json\"\n",
    "group_one_wasm_path = \"original/reconstructed_group1_wasm.json\"\n",
    "group_two_original_path = \"original/reconstructed_group2_original.json\"\n",
    "group_two_asm_long_path = \"original/reconstructed_group2_asm_long.json\"\n",
    "group_two_wasm_path = \"original/reconstructed_group2_wasm.json\"\n",
    "group_three_original_path = \"original/reconstructed_group3_helper_as_part_of_groundtruth_original.json\"\n",
    "group_three_asm_long_path = \"original/reconstructed_group3_asm_long.json\"\n",
    "group_three_wasm_path = \"original/reconstructed_group3_helper_as_part_of_groundtruth_wasm.json\"\n",
    "\n",
    "# make sure all of the json files are in the json files used\n",
    "assert group_one_original_path in json_files_used and group_one_asm_long_path in json_files_used and group_one_wasm_path in json_files_used\n",
    "assert group_two_original_path in json_files_used and group_two_asm_long_path in json_files_used and group_two_wasm_path in json_files_used\n",
    "assert group_three_original_path in json_files_used and group_three_asm_long_path in json_files_used and group_three_wasm_path in json_files_used\n",
    "\n",
    "with open(group_one_original_path, 'r') as f:\n",
    "    group_one_original = json.load(f)\n",
    "    group_one_corpus = group_one_original['corpus']\n",
    "    group_one_corpus_line_count = []\n",
    "    for id, code in group_one_corpus.items():\n",
    "        group_one_corpus_line_count.append(get_line_count(code))\n",
    "\n",
    "with open(group_one_asm_long_path, 'r') as f:\n",
    "    group_one_asm_long = json.load(f)\n",
    "    group_one_asm_long_corpus = group_one_asm_long['corpus']\n",
    "    group_one_asm_long_corpus_line_count = []\n",
    "    for id, code in group_one_asm_long_corpus.items():\n",
    "        group_one_asm_long_corpus_line_count.append(get_line_count(code))\n",
    "\n",
    "with open(group_one_wasm_path, 'r') as f:\n",
    "    group_one_wasm = json.load(f)\n",
    "    group_one_wasm_corpus = group_one_wasm['corpus']\n",
    "    group_one_wasm_corpus_line_count = []\n",
    "    for id, code in group_one_wasm_corpus.items():\n",
    "        group_one_wasm_corpus_line_count.append(get_line_count(code))\n",
    "\n",
    "with open(group_two_original_path, 'r') as f:\n",
    "    group_two_original = json.load(f)\n",
    "    group_two_corpus = group_two_original['corpus']\n",
    "    group_two_corpus_line_count = []\n",
    "    for id, code in group_two_corpus.items():\n",
    "        group_two_corpus_line_count.append(get_line_count(code))\n",
    "\n",
    "with open(group_two_asm_long_path, 'r') as f:\n",
    "    group_two_asm_long = json.load(f)\n",
    "    group_two_asm_long_corpus = group_two_asm_long['corpus']\n",
    "    group_two_asm_long_corpus_line_count = []\n",
    "    for id, code in group_two_asm_long_corpus.items():\n",
    "        group_two_asm_long_corpus_line_count.append(get_line_count(code))\n",
    "\n",
    "with open(group_two_wasm_path, 'r') as f:\n",
    "    group_two_wasm = json.load(f)\n",
    "    group_two_wasm_corpus = group_two_wasm['corpus']\n",
    "    group_two_wasm_corpus_line_count = []\n",
    "    for id, code in group_two_wasm_corpus.items():\n",
    "        group_two_wasm_corpus_line_count.append(get_line_count(code))\n",
    "\n",
    "with open(group_three_original_path, 'r') as f:\n",
    "    group_three_original = json.load(f)\n",
    "    group_three_corpus = group_three_original['corpus']\n",
    "    group_three_corpus_line_count = []\n",
    "    for id, code in group_three_corpus.items():\n",
    "        if \"c_group_3_id\" not in id:\n",
    "            continue\n",
    "        group_three_corpus_line_count.append(get_line_count(code))\n",
    "\n",
    "with open(group_three_asm_long_path, 'r') as f:\n",
    "    group_three_asm_long = json.load(f)\n",
    "    group_three_asm_long_corpus = group_three_asm_long['corpus']\n",
    "    group_three_asm_long_corpus_line_count = []\n",
    "    for id, code in group_three_asm_long_corpus.items():\n",
    "        if \"c_group_3_id\" not in id:\n",
    "            continue\n",
    "        group_three_asm_long_corpus_line_count.append(get_line_count(code))\n",
    "\n",
    "with open(group_three_wasm_path, 'r') as f:\n",
    "    group_three_wasm = json.load(f)\n",
    "    group_three_wasm_corpus = group_three_wasm['corpus']\n",
    "    group_three_wasm_corpus_line_count = []\n",
    "    for id, code in group_three_wasm_corpus.items():\n",
    "        if \"c_group_3_id\" not in id:\n",
    "            continue\n",
    "        group_three_wasm_corpus_line_count.append(get_line_count(code))\n",
    "\n",
    "group_one_original_corpus_line_count_avg = \"{:.1f}\".format(sum(group_one_corpus_line_count) / len(group_one_corpus_line_count))\n",
    "group_one_asm_long_corpus_line_count_avg = \"{:.1f}\".format(sum(group_one_asm_long_corpus_line_count) / len(group_one_asm_long_corpus_line_count))\n",
    "group_one_wasm_corpus_line_count_avg = \"{:.1f}\".format(sum(group_one_wasm_corpus_line_count) / len(group_one_wasm_corpus_line_count))\n",
    "group_two_original_corpus_line_count_avg = \"{:.1f}\".format(sum(group_two_corpus_line_count) / len(group_two_corpus_line_count))\n",
    "group_two_asm_long_corpus_line_count_avg = \"{:.1f}\".format(sum(group_two_asm_long_corpus_line_count) / len(group_two_asm_long_corpus_line_count))\n",
    "group_two_wasm_corpus_line_count_avg = \"{:.1f}\".format(sum(group_two_wasm_corpus_line_count) / len(group_two_wasm_corpus_line_count))\n",
    "group_three_original_corpus_line_count_avg = \"{:.1f}\".format(sum(group_three_corpus_line_count) / len(group_three_corpus_line_count))\n",
    "group_three_asm_long_corpus_line_count_avg = \"{:.1f}\".format(sum(group_three_asm_long_corpus_line_count) / len(group_three_asm_long_corpus_line_count))\n",
    "group_three_wasm_corpus_line_count_avg = \"{:.1f}\".format(sum(group_three_wasm_corpus_line_count) / len(group_three_wasm_corpus_line_count))\n",
    "final_result['code']['Group 1 original average code line count'] = group_one_original_corpus_line_count_avg\n",
    "final_result['code']['Group 1 asm long average code line count'] = group_one_asm_long_corpus_line_count_avg\n",
    "final_result['code']['Group 1 wasm average code line count'] = group_one_wasm_corpus_line_count_avg\n",
    "final_result['code']['Group 2 original average code line count'] = group_two_original_corpus_line_count_avg\n",
    "final_result['code']['Group 2 asm long average code line count'] = group_two_asm_long_corpus_line_count_avg\n",
    "final_result['code']['Group 2 wasm average code line count'] = group_two_wasm_corpus_line_count_avg\n",
    "final_result['code']['Group 3 original average code line count'] = group_three_original_corpus_line_count_avg\n",
    "final_result['code']['Group 3 asm long average code line count'] = group_three_asm_long_corpus_line_count_avg\n",
    "final_result['code']['Group 3 wasm average code line count'] = group_three_wasm_corpus_line_count_avg\n",
    "\n",
    "print(\"Group 1 original average code line count: \", group_one_original_corpus_line_count_avg, \"Group 1 asm long average code line count: \", group_one_asm_long_corpus_line_count_avg, \"Group 1 wasm average code line count: \", group_one_wasm_corpus_line_count_avg)\n",
    "\n",
    "print(\"Group 2 original average code line count: \", group_two_original_corpus_line_count_avg, \"Group 2 asm long average code line count: \", group_two_asm_long_corpus_line_count_avg, \"Group 2 wasm average code line count: \", group_two_wasm_corpus_line_count_avg)\n",
    "\n",
    "print(\"Group 3 original average code line count: \", group_three_original_corpus_line_count_avg, \"Group 3 asm long average code line count: \", group_three_asm_long_corpus_line_count_avg, \"Group 3 wasm average code line count: \", group_three_wasm_corpus_line_count_avg)"
   ]
  },
  {
   "cell_type": "code",
   "execution_count": 18,
   "id": "d806e2e5",
   "metadata": {},
   "outputs": [
    {
     "name": "stdout",
     "output_type": "stream",
     "text": [
      "Entire Group average original code line count:  13.5 Entire Group average asm long code line count:  83.0 Entire Group average wasm code line count:  112.7\n"
     ]
    }
   ],
   "source": [
    "# calculate the average number of tokens in the code for the entire corpus\n",
    "\n",
    "original_entire_corpus_line_count_avg = \"{:.1f}\".format((sum(group_one_corpus_line_count) + sum(group_two_corpus_line_count) + sum(group_three_corpus_line_count)) / (len(group_one_corpus_line_count) + len(group_two_corpus_line_count) + len(group_three_corpus_line_count)))\n",
    "asm_long_entire_corpus_line_count_avg = \"{:.1f}\".format((sum(group_one_asm_long_corpus_line_count) + sum(group_two_asm_long_corpus_line_count) + sum(group_three_asm_long_corpus_line_count)) / (len(group_one_asm_long_corpus_line_count) + len(group_two_asm_long_corpus_line_count) + len(group_three_asm_long_corpus_line_count)))\n",
    "wasm_entire_corpus_line_count_avg = \"{:.1f}\".format((sum(group_one_wasm_corpus_line_count) + sum(group_two_wasm_corpus_line_count) + sum(group_three_wasm_corpus_line_count)) / (len(group_one_wasm_corpus_line_count) + len(group_two_wasm_corpus_line_count) + len(group_three_wasm_corpus_line_count)))\n",
    "\n",
    "final_result['code']['Entire Group average original code line count'] = original_entire_corpus_line_count_avg\n",
    "final_result['code']['Entire Group average asm long code line count'] = asm_long_entire_corpus_line_count_avg\n",
    "final_result['code']['Entire Group average wasm code line count'] = wasm_entire_corpus_line_count_avg\n",
    "\n",
    "print(\"Entire Group average original code line count: \", original_entire_corpus_line_count_avg, \"Entire Group average asm long code line count: \", asm_long_entire_corpus_line_count_avg, \"Entire Group average wasm code line count: \", wasm_entire_corpus_line_count_avg)"
   ]
  },
  {
   "cell_type": "markdown",
   "id": "56a5908f",
   "metadata": {},
   "source": [
    "##### 3. Code Complexity"
   ]
  },
  {
   "cell_type": "code",
   "execution_count": 19,
   "id": "0b36a190",
   "metadata": {},
   "outputs": [],
   "source": [
    "from calculate_complexity import cyclomatic_complexity"
   ]
  },
  {
   "cell_type": "code",
   "execution_count": 20,
   "id": "6914cff7",
   "metadata": {},
   "outputs": [
    {
     "name": "stdout",
     "output_type": "stream",
     "text": [
      "Group 1 original average code cyclomatic complexity:  2.9 Group 2 original average code cyclomatic complexity:  2.8 Group 3 original average code cyclomatic complexity:  4.3\n"
     ]
    }
   ],
   "source": [
    "# calculate the cyclomatic complexity of the code. Only for the original code.\n",
    "import json\n",
    "group_one_original_path = \"original/reconstructed_group1_original.json\"\n",
    "group_two_original_path = \"original/reconstructed_group2_original.json\"\n",
    "group_three_original_path = \"original/reconstructed_group3_helper_as_part_of_groundtruth_original.json\"\n",
    "\n",
    "with open(group_one_original_path, 'r') as f:\n",
    "    group_one_original = json.load(f)\n",
    "    group_one_corpus = group_one_original['corpus']\n",
    "    group_one_corpus_complexity = []\n",
    "    for id, code in group_one_corpus.items():\n",
    "        group_one_corpus_complexity.append(cyclomatic_complexity(code))\n",
    "with open(group_two_original_path, 'r') as f:\n",
    "    group_two_original = json.load(f)\n",
    "    group_two_corpus = group_two_original['corpus']\n",
    "    group_two_corpus_complexity = []\n",
    "    for id, code in group_two_corpus.items():\n",
    "        group_two_corpus_complexity.append(cyclomatic_complexity(code))\n",
    "with open(group_three_original_path, 'r') as f:\n",
    "    group_three_original = json.load(f)\n",
    "    group_three_corpus = group_three_original['corpus']\n",
    "    group_three_corpus_complexity = []\n",
    "    for id, code in group_three_corpus.items():\n",
    "        if \"c_group_3_id\" not in id:\n",
    "            continue\n",
    "        group_three_corpus_complexity.append(cyclomatic_complexity(code))\n",
    "group_one_original_corpus_complexity_avg = \"{:.1f}\".format(sum(group_one_corpus_complexity) / len(group_one_corpus_complexity))\n",
    "group_two_original_corpus_complexity_avg = \"{:.1f}\".format(sum(group_two_corpus_complexity) / len(group_two_corpus_complexity))\n",
    "group_three_original_corpus_complexity_avg = \"{:.1f}\".format(sum(group_three_corpus_complexity) / len(group_three_corpus_complexity))\n",
    "\n",
    "final_result['code']['Group 1 original average code cyclomatic complexity'] = group_one_original_corpus_complexity_avg\n",
    "final_result['code']['Group 2 original average code cyclomatic complexity'] = group_two_original_corpus_complexity_avg\n",
    "final_result['code']['Group 3 original average code cyclomatic complexity'] = group_three_original_corpus_complexity_avg\n",
    "\n",
    "\n",
    "print(\"Group 1 original average code cyclomatic complexity: \", group_one_original_corpus_complexity_avg, \"Group 2 original average code cyclomatic complexity: \", group_two_original_corpus_complexity_avg, \"Group 3 original average code cyclomatic complexity: \", group_three_original_corpus_complexity_avg)"
   ]
  },
  {
   "cell_type": "code",
   "execution_count": 21,
   "id": "4ff2ecce",
   "metadata": {},
   "outputs": [
    {
     "name": "stdout",
     "output_type": "stream",
     "text": [
      "Entire Group average original code cyclomatic complexity:  2.9\n"
     ]
    }
   ],
   "source": [
    "# calculate the average complexity of the original code for the entire corpus\n",
    "\n",
    "original_entire_corpus_complexity_avg = \"{:.1f}\".format((sum(group_one_corpus_complexity) + sum(group_two_corpus_complexity) + sum(group_three_corpus_complexity)) / (len(group_one_corpus_complexity) + len(group_two_corpus_complexity) + len(group_three_corpus_complexity)))\n",
    "final_result['code']['Entire Group average original code cyclomatic complexity'] = original_entire_corpus_complexity_avg\n",
    "print(\"Entire Group average original code cyclomatic complexity: \", original_entire_corpus_complexity_avg)"
   ]
  },
  {
   "cell_type": "code",
   "execution_count": 22,
   "id": "368966fa",
   "metadata": {},
   "outputs": [
    {
     "data": {
      "text/plain": [
       "{'general': {'Group 1 original pair count': 526,\n",
       "  'Group 2 original pair count': 469,\n",
       "  'Group 3 original pair count': 44},\n",
       " 'query': {'Group 1 average query tokens': '88.3',\n",
       "  'Group 2 average query tokens': '84.7',\n",
       "  'Group 3 average query tokens': '88.2',\n",
       "  'Entire Group average query token count': '86.7'},\n",
       " 'code': {'Group 1 original average code tokens': '119.2',\n",
       "  'Group 1 asm long average code tokens': '753.7',\n",
       "  'Group 1 wasm average code tokens': '665.5',\n",
       "  'Group 2 original average code tokens': '137.7',\n",
       "  'Group 2 asm long average code tokens': '831.3',\n",
       "  'Group 2 wasm average code tokens': '947.1',\n",
       "  'Group 3 original average code tokens': '163.3',\n",
       "  'Group 3 asm long average code tokens': '926.9',\n",
       "  'Group 3 wasm average code tokens': '672.6',\n",
       "  'Entire Group average original code tokens': '129.4',\n",
       "  'Entire Group average asm long code tokens': '795.5',\n",
       "  'Entire Group average wasm code tokens': '787.1',\n",
       "  'Group 1 original average code line count': '12.8',\n",
       "  'Group 1 asm long average code line count': '80.7',\n",
       "  'Group 1 wasm average code line count': '96.2',\n",
       "  'Group 2 original average code line count': '13.3',\n",
       "  'Group 2 asm long average code line count': '84.4',\n",
       "  'Group 2 wasm average code line count': '134.4',\n",
       "  'Group 3 original average code line count': '22.9',\n",
       "  'Group 3 asm long average code line count': '96.4',\n",
       "  'Group 3 wasm average code line count': '97.6',\n",
       "  'Entire Group average original code line count': '13.5',\n",
       "  'Entire Group average asm long code line count': '83.0',\n",
       "  'Entire Group average wasm code line count': '112.7',\n",
       "  'Group 1 original average code cyclomatic complexity': '2.9',\n",
       "  'Group 2 original average code cyclomatic complexity': '2.8',\n",
       "  'Group 3 original average code cyclomatic complexity': '4.3',\n",
       "  'Entire Group average original code cyclomatic complexity': '2.9'}}"
      ]
     },
     "execution_count": 22,
     "metadata": {},
     "output_type": "execute_result"
    }
   ],
   "source": [
    "final_result"
   ]
  },
  {
   "cell_type": "code",
   "execution_count": 25,
   "id": "f4b46670",
   "metadata": {},
   "outputs": [
    {
     "name": "stdout",
     "output_type": "stream",
     "text": [
      "Total number of pairs:  1039\n"
     ]
    }
   ],
   "source": [
    "# total number of pairs\n",
    "total_pairs = group_one_pair_count + group_two_pair_count + group_three_pair_count\n",
    "print(\"Total number of pairs: \", total_pairs)"
   ]
  },
  {
   "cell_type": "code",
   "execution_count": null,
   "id": "48108445",
   "metadata": {},
   "outputs": [],
   "source": []
  },
  {
   "cell_type": "code",
   "execution_count": null,
   "id": "33579ae0",
   "metadata": {},
   "outputs": [],
   "source": []
  },
  {
   "cell_type": "code",
   "execution_count": null,
   "id": "041665c2",
   "metadata": {},
   "outputs": [],
   "source": []
  }
 ],
 "metadata": {
  "kernelspec": {
   "display_name": "base",
   "language": "python",
   "name": "python3"
  },
  "language_info": {
   "codemirror_mode": {
    "name": "ipython",
    "version": 3
   },
   "file_extension": ".py",
   "mimetype": "text/x-python",
   "name": "python",
   "nbconvert_exporter": "python",
   "pygments_lexer": "ipython3",
   "version": "3.12.7"
  }
 },
 "nbformat": 4,
 "nbformat_minor": 5
}
